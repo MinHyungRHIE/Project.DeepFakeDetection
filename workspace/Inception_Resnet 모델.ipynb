{
 "cells": [
  {
   "cell_type": "markdown",
   "metadata": {},
   "source": [
    "# Inception + Resnet 모델"
   ]
  },
  {
   "cell_type": "markdown",
   "metadata": {},
   "source": [
    "## 하이퍼 파라미터"
   ]
  },
  {
   "cell_type": "code",
   "execution_count": 22,
   "metadata": {},
   "outputs": [],
   "source": [
    "import os\n",
    "import tensorflow as tf\n",
    "from tensorflow import keras\n",
    "import numpy as np\n",
    "import pandas as pd\n",
    "import matplotlib.pyplot as plt\n",
    "from tensorflow.keras.preprocessing.image import ImageDataGenerator, img_to_array, load_img\n",
    "import time\n",
    "import psutil\n",
    "import random"
   ]
  },
  {
   "cell_type": "markdown",
   "metadata": {},
   "source": [
    "## 데이터셋 위치 지정"
   ]
  },
  {
   "cell_type": "code",
   "execution_count": 5,
   "metadata": {},
   "outputs": [
    {
     "name": "stdout",
     "output_type": "stream",
     "text": [
      "REAL 영상 수 : 46858, 경로 : ../../../dataset/train_sample_videos/real\n",
      "FAKE 영상 수 : 265658, 경로 : ../../../dataset/train_sample_videos/fake\n"
     ]
    }
   ],
   "source": [
    "ROOT_DATA_FOLDER = '../../../dataset/train_sample_videos'\n",
    "REAL_DATA_PATH = os.path.join(ROOT_DATA_FOLDER, 'real')\n",
    "FAKE_DATA_PATH = os.path.join(ROOT_DATA_FOLDER, 'fake')\n",
    "REAL_DATASET_LIST = os.listdir(REAL_DATA_PATH)\n",
    "FAKE_DATASET_LIST = os.listdir(FAKE_DATA_PATH)\n",
    "\n",
    "print(f\"REAL 영상 수 : {len(REAL_DATASET_LIST)}, 경로 : {REAL_DATA_PATH}\")\n",
    "print(f\"FAKE 영상 수 : {len(FAKE_DATASET_LIST)}, 경로 : {FAKE_DATA_PATH}\")"
   ]
  },
  {
   "cell_type": "markdown",
   "metadata": {},
   "source": [
    "## REAL 데이터셋 리스트와 FAKE 데이터셋 리스트 라벨링 후 합치기\n",
    "\n",
    "#### Generator를 사용해 메모리를 효율적으로 사용한다"
   ]
  },
  {
   "cell_type": "code",
   "execution_count": 45,
   "metadata": {},
   "outputs": [
    {
     "name": "stdout",
     "output_type": "stream",
     "text": [
      "시작 전 메모리 사용량: 503.91796875 MB\n",
      "종료 후 메모리 사용량: 506.41796875 MB\n",
      "총 소요된 시간: 0.057495 초\n"
     ]
    },
    {
     "data": {
      "text/plain": [
       "('prropvmcke_1.png', 'real')"
      ]
     },
     "execution_count": 45,
     "metadata": {},
     "output_type": "execute_result"
    }
   ],
   "source": [
    "# 라벨링을 해주는 Generator\n",
    "def real_list_labelling(real_list):\n",
    "    for img_name in real_list:\n",
    "        labeled_real_set = (img_name,'real')\n",
    "        yield labeled_real_set\n",
    "\n",
    "def fake_list_labelling(fake_list):\n",
    "    for img_name in fake_list:\n",
    "        labeled_fake_set = (img_name,'fake')\n",
    "        yield labeled_fake_set \n",
    "\n",
    "# 메모리 사용을 체크해주는 객체 process 생성\n",
    "process = psutil.Process(os.getpid())\n",
    "\n",
    "# 라벨링 실행전 메모리 상태 체크\n",
    "before_time = time.clock()\n",
    "mem_before = process.memory_info().rss / 1024 / 1024\n",
    "\n",
    "labeled_real_gen = real_list_labelling(REAL_DATASET_LIST)\n",
    "labeled_fake_gen = fake_list_labelling(FAKE_DATASET_LIST)\n",
    "\n",
    "labeled_real_set = list(labeled_real_gen)\n",
    "labeled_fake_set = list(labeled_fake_gen)\n",
    "\n",
    "# 라벨링 실행후 메모리 상태 체크\n",
    "after_time = time.clock()\n",
    "mem_after = process.memory_info().rss / 1024 / 1024\n",
    "total_time = after_time - before_time\n",
    "\n",
    "print('시작 전 메모리 사용량: {} MB'.format(mem_before))\n",
    "print('종료 후 메모리 사용량: {} MB'.format(mem_after))\n",
    "print('총 소요된 시간: {:.6f} 초'.format(total_time))\n",
    "\n",
    "# REAL과 FAKE를 합친후 랜덤으로 섞기 \n",
    "LABELED_DATASET_LIST = labeled_real_set + labeled_fake_set\n",
    "random.shuffle(LABELED_DATASET_LIST)\n",
    "\n",
    "# 50개 데이터 확인\n",
    "table = {\n",
    "    \"IMAGE\" : LABELED_DATASET_LIST[:50],\n",
    "    \"LABEL\" : LABELED_DATASET_LIST[:50]\n",
    "}\n",
    "\n",
    "pd.DataFrame(table)\n",
    "LABELED_DATASET_LIST[:50]"
   ]
  },
  {
   "cell_type": "markdown",
   "metadata": {},
   "source": [
    "## 데이터 "
   ]
  },
  {
   "cell_type": "code",
   "execution_count": null,
   "metadata": {},
   "outputs": [],
   "source": [
    "tf.keras.preprocessing.image.ImageDataGenerator(\n",
    "    REAL_DATA_PATH,\n",
    "    rescale=1./255\n",
    ")"
   ]
  },
  {
   "cell_type": "code",
   "execution_count": null,
   "metadata": {},
   "outputs": [],
   "source": [
    "input_shape = (128, 128, 3)\n",
    "\n",
    "a=\n",
    "b=\n",
    "X = []\n",
    "Y = []\n",
    "\n",
    "print(\"start\")\n",
    "for img in REAL_DATASET_NAMES:\n",
    "    if len(X) < len(REAL_DATASET_NAMES)/5:\n",
    "        X.append(img_to_array(load_img(data_dir+'/real/'+img)).flatten() / 255.0)\n",
    "        Y.append(1)\n",
    "print(\"end, start\")\n",
    "for img in FAKE_DATASET:\n",
    "    if len(X) < (len(FAKE_DATASET)+len(REAL_DATASET_NAMES))/5:\n",
    "        X.append(img_to_array(load_img(data_dir+'/fake/'+img)).flatten() / 255.0)\n",
    "        Y.append(0)\n",
    "print(\"end\")\n",
    "Y_val_org = Y\n",
    "\n",
    "#Normalization\n",
    "X = np.array(X)\n",
    "Y = to_categorical(Y, 2)\n",
    "\n",
    "#Reshape\n",
    "X = X.reshape(-1, 128, 128, 3)\n",
    "\n",
    "#Train-Test split\n",
    "X_train, X_val, Y_train, Y_val = train_test_split(X, Y, test_size = 0.2, random_state=5)\n"
   ]
  },
  {
   "cell_type": "code",
   "execution_count": null,
   "metadata": {},
   "outputs": [],
   "source": []
  },
  {
   "cell_type": "code",
   "execution_count": null,
   "metadata": {},
   "outputs": [],
   "source": []
  },
  {
   "cell_type": "code",
   "execution_count": null,
   "metadata": {},
   "outputs": [],
   "source": []
  },
  {
   "cell_type": "code",
   "execution_count": null,
   "metadata": {},
   "outputs": [],
   "source": []
  },
  {
   "cell_type": "code",
   "execution_count": null,
   "metadata": {},
   "outputs": [],
   "source": []
  },
  {
   "cell_type": "code",
   "execution_count": null,
   "metadata": {},
   "outputs": [],
   "source": []
  },
  {
   "cell_type": "code",
   "execution_count": null,
   "metadata": {},
   "outputs": [],
   "source": []
  },
  {
   "cell_type": "code",
   "execution_count": null,
   "metadata": {},
   "outputs": [],
   "source": []
  },
  {
   "cell_type": "code",
   "execution_count": null,
   "metadata": {},
   "outputs": [],
   "source": []
  },
  {
   "cell_type": "code",
   "execution_count": null,
   "metadata": {},
   "outputs": [],
   "source": []
  },
  {
   "cell_type": "code",
   "execution_count": null,
   "metadata": {},
   "outputs": [],
   "source": []
  },
  {
   "cell_type": "code",
   "execution_count": null,
   "metadata": {},
   "outputs": [],
   "source": []
  },
  {
   "cell_type": "code",
   "execution_count": null,
   "metadata": {},
   "outputs": [],
   "source": []
  },
  {
   "cell_type": "code",
   "execution_count": null,
   "metadata": {},
   "outputs": [],
   "source": []
  },
  {
   "cell_type": "code",
   "execution_count": null,
   "metadata": {},
   "outputs": [],
   "source": []
  },
  {
   "cell_type": "code",
   "execution_count": null,
   "metadata": {},
   "outputs": [],
   "source": [
    "Inception_Resnet_model = keras.models.load_model('Inception_Resnet_Model.h5')"
   ]
  },
  {
   "cell_type": "code",
   "execution_count": null,
   "metadata": {},
   "outputs": [],
   "source": [
    "Inception_Resnet_model.summary()"
   ]
  },
  {
   "cell_type": "code",
   "execution_count": null,
   "metadata": {},
   "outputs": [],
   "source": []
  },
  {
   "cell_type": "code",
   "execution_count": null,
   "metadata": {},
   "outputs": [],
   "source": []
  }
 ],
 "metadata": {
  "kernelspec": {
   "display_name": "Python 3",
   "language": "python",
   "name": "python3"
  },
  "language_info": {
   "codemirror_mode": {
    "name": "ipython",
    "version": 3
   },
   "file_extension": ".py",
   "mimetype": "text/x-python",
   "name": "python",
   "nbconvert_exporter": "python",
   "pygments_lexer": "ipython3",
   "version": "3.6.9"
  }
 },
 "nbformat": 4,
 "nbformat_minor": 4
}
