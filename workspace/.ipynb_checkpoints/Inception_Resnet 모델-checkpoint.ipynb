{
 "cells": [
  {
   "cell_type": "markdown",
   "metadata": {},
   "source": [
    "# Inception + Resnet 모델"
   ]
  },
  {
   "cell_type": "markdown",
   "metadata": {},
   "source": [
    "## 하이퍼 파라미터 : 1. 모듈"
   ]
  },
  {
   "cell_type": "code",
   "execution_count": 2,
   "metadata": {},
   "outputs": [],
   "source": [
    "import os\n",
    "import sys\n",
    "import tensorflow as tf\n",
    "from tensorflow import keras\n",
    "import numpy as np\n",
    "import pandas as pd\n",
    "import matplotlib.pyplot as plt\n",
    "from tensorflow.keras.preprocessing.image import ImageDataGenerator, img_to_array, load_img\n",
    "import time\n",
    "import psutil\n",
    "import random\n",
    "from PIL import Image\n",
    "from tensorflow.keras.utils import to_categorical\n",
    "from sklearn.model_selection import train_test_split"
   ]
  },
  {
   "cell_type": "markdown",
   "metadata": {},
   "source": [
    "## 하이퍼 파라미터 : 2. 데이터셋"
   ]
  },
  {
   "cell_type": "code",
   "execution_count": 3,
   "metadata": {},
   "outputs": [
    {
     "name": "stdout",
     "output_type": "stream",
     "text": [
      "REAL 영상 수 : 46858, 경로 : ../../../dataset/train_sample_videos/real\n",
      "FAKE 영상 수 : 265658, 경로 : ../../../dataset/train_sample_videos/fake\n"
     ]
    }
   ],
   "source": [
    "ROOT_DATA_FOLDER = '../../../dataset/train_sample_videos'\n",
    "REAL_DATA_PATH = os.path.join(ROOT_DATA_FOLDER, 'real')\n",
    "FAKE_DATA_PATH = os.path.join(ROOT_DATA_FOLDER, 'fake')\n",
    "REAL_DATASET_LIST = os.listdir(REAL_DATA_PATH)\n",
    "FAKE_DATASET_LIST = os.listdir(FAKE_DATA_PATH)\n",
    "\n",
    "print(f\"REAL 영상 수 : {len(REAL_DATASET_LIST)}, 경로 : {REAL_DATA_PATH}\")\n",
    "print(f\"FAKE 영상 수 : {len(FAKE_DATASET_LIST)}, 경로 : {FAKE_DATA_PATH}\")"
   ]
  },
  {
   "cell_type": "markdown",
   "metadata": {},
   "source": [
    "## 유틸리티 정의 : 1. 데이터 전처리 클래스\n",
    " - REAL 데이터셋 리스트와 FAKE 데이터셋 라벨링 후 합치기\n",
    " - 데이터셋이 크므로 Generator를 사용해 변수 할당을 줄여 메모리를 효율적으로 사용한다"
   ]
  },
  {
   "cell_type": "code",
   "execution_count": null,
   "metadata": {},
   "outputs": [],
   "source": [
    "# 라벨링을 해주는 Generator\n",
    "class Deepfake_Preprocessor:\n",
    "    \"\"\"\n",
    "    author : RHIE MINHYUNG\n",
    "    describe: 라벨링된 딥페이크 이미지셋 부여 0-fake 1-real\n",
    "    [usage]\n",
    "      #> datasets = Deepfake_Preprocessor()\n",
    "      #> = datasets.load_data()\n",
    "    \"\"\"\n",
    "    \n",
    "    def __init__(self):\n",
    "        \n",
    "        self.cnt_real = 0\n",
    "        self.cnt_fake = 0\n",
    "        \n",
    "        print(\"[Deepfake_Preprocessor 생성을 시작합니다...]\")\n",
    "        self.real_data_len = len(REAL_DATASET_LIST)\n",
    "        self.fake_data_len = len(FAKE_DATASET_LIST)\n",
    "        #--이미지 데이터 불러오고 list로 바꿔주기\n",
    "        real_data = [self.show_process(REAL_DATA_PATH, img, data_type=\"real\") for img in REAL_DATASET_LIST]\n",
    "        print(\"\\n......REAL 데이터 완료\")\n",
    "        fake_data = [self.show_process(FAKE_DATA_PATH, img, data_type=\"fake\") for img in FAKE_DATASET_LIST]\n",
    "        print(\"\\n......FAKE 데이터 완료\")\n",
    "        print(\"[진행중1/5]이미지 데이터 불러오고 list로 바꿔주기\")\n",
    "        \n",
    "        #--Fake=0, REAL=1 라벨을 부여해주는 제너레이터 생성\n",
    "        labeled_real_gen = self.real_data_labelling(real_data)\n",
    "        labeled_fake_gen = self.fake_data_labelling(fake_data)\n",
    "        print(\"[진행중2/5]Fake=0, REAL=1 라벨을 부여해주는 제너레이터 생성\")\n",
    "    \n",
    "        #--제너레이터 실행\n",
    "        labeled_real_data = list(labeled_real_gen)\n",
    "        labeled_fake_data = list(labeled_fake_gen)\n",
    "        print(\"[진행중3/5]제너레이터 실행\")\n",
    "        \n",
    "        #--라벨링된 REAL과 FAKE를 합친후 랜덤으로 섞기\n",
    "        labeled_data = labeled_real_data + labeled_fake_data\n",
    "        random.shuffle(labeled_data)\n",
    "        print(\"[진행중4/5]라벨링된 REAL과 FAKE를 합친후 랜덤으로 섞기\")\n",
    "        \n",
    "        #--numpy로 casting\n",
    "        self.datasets = np.array(labeled_data)\n",
    "        print(\"[완료5/5] datasets 구성: \", self.datasets.shape)\n",
    "        \n",
    "    def load_data(self):\n",
    "        #Normalization\n",
    "        X = self.datasets\n",
    "        Y = to_categorical(Y, 2)\n",
    "\n",
    "        #Reshape\n",
    "        X = X.reshape(-1, 128, 128, 3)\n",
    "\n",
    "        #Train-Test split\n",
    "        X_train, X_val, Y_train, Y_val = train_test_split(X, Y, test_size = 0.2, random_state=5)\n",
    "    \n",
    "    def real_data_labelling(self, real_data):\n",
    "        for img_array in real_data:\n",
    "            labeled_real_set = (img_array, 1)\n",
    "            yield labeled_real_set\n",
    "\n",
    "    def fake_data_labelling(self, fake_data):\n",
    "        for img_array in fake_data:\n",
    "            labeled_fake_set = (img_array, 0)\n",
    "            yield labeled_fake_set\n",
    "    \n",
    "    def show_process(self, path, filename, data_type=None):\n",
    "        if(data_type == \"real\"):\n",
    "            sys.stdout.write(\"\\r\"+\"[\"+str(self.cnt_real)+\" / \"+str(self.real_data_len)+\"]\")\n",
    "            self.cnt_real += 1\n",
    "        elif(data_type == \"fake\"):\n",
    "            sys.stdout.write(\"\\r\"+\"[\"+str(self.cnt_fake)+\" / \"+str(self.fake_data_len)+\"]\")\n",
    "            self.cnt_fake += 1\n",
    "        return img_to_array(load_img(os.path.join(path, filename))) / 255.0"
   ]
  },
  {
   "cell_type": "markdown",
   "metadata": {},
   "source": [
    "## 데이터셋 준비 ( Preprocess ) \n",
    " - REAL 데이터셋 리스트와 FAKE 데이터셋 라벨링 후 합치기\n",
    " - 데이터셋이 크므로 Generator를 사용해 변수 할당을 줄여메모리를 효율적으로 사용한다"
   ]
  },
  {
   "cell_type": "code",
   "execution_count": 4,
   "metadata": {},
   "outputs": [
    {
     "ename": "NameError",
     "evalue": "name 'Deepfake_Preprocessor' is not defined",
     "output_type": "error",
     "traceback": [
      "\u001b[0;31m---------------------------------------------------------------------------\u001b[0m",
      "\u001b[0;31mNameError\u001b[0m                                 Traceback (most recent call last)",
      "\u001b[0;32m<ipython-input-4-0f226c5607b8>\u001b[0m in \u001b[0;36m<module>\u001b[0;34m\u001b[0m\n\u001b[1;32m      7\u001b[0m \u001b[0;34m\u001b[0m\u001b[0m\n\u001b[1;32m      8\u001b[0m \u001b[0;34m\u001b[0m\u001b[0m\n\u001b[0;32m----> 9\u001b[0;31m \u001b[0mdatasets\u001b[0m \u001b[0;34m=\u001b[0m \u001b[0mDeepfake_Preprocessor\u001b[0m\u001b[0;34m(\u001b[0m\u001b[0;34m)\u001b[0m\u001b[0;34m\u001b[0m\u001b[0;34m\u001b[0m\u001b[0m\n\u001b[0m\u001b[1;32m     10\u001b[0m \u001b[0;34m\u001b[0m\u001b[0m\n\u001b[1;32m     11\u001b[0m \u001b[0;31m# 라벨링 실행후 메모리 상태 체크\u001b[0m\u001b[0;34m\u001b[0m\u001b[0;34m\u001b[0m\u001b[0;34m\u001b[0m\u001b[0m\n",
      "\u001b[0;31mNameError\u001b[0m: name 'Deepfake_Preprocessor' is not defined"
     ]
    }
   ],
   "source": [
    "# 메모리 사용을 체크해주는 객체 process 생성\n",
    "process = psutil.Process(os.getpid())\n",
    "\n",
    "# 라벨링 실행전 메모리 상태 체크\n",
    "before_time = time.clock()\n",
    "mem_before = process.memory_info().rss / 1024 / 1024\n",
    "\n",
    "\n",
    "datasets = Deepfake_Preprocessor()\n",
    "\n",
    "# 라벨링 실행후 메모리 상태 체크\n",
    "after_time = time.clock()\n",
    "mem_after = process.memory_info().rss / 1024 / 1024\n",
    "total_time = after_time - before_time\n",
    "\n",
    "print('시작 전 메모리 사용량: {} MB'.format(mem_before))\n",
    "print('종료 후 메모리 사용량: {} MB'.format(mem_after))\n",
    "print('총 소요된 시간: {:.6f} 초'.format(total_time))"
   ]
  },
  {
   "cell_type": "markdown",
   "metadata": {},
   "source": [
    "## 데이터 전처리\n",
    " - 메모리가 부족해 이미지 전부를 로딩할 수 없음"
   ]
  },
  {
   "cell_type": "code",
   "execution_count": null,
   "metadata": {},
   "outputs": [
    {
     "name": "stdout",
     "output_type": "stream",
     "text": [
      "INFO:tensorflow:Using MirroredStrategy with devices ('/job:localhost/replica:0/task:0/device:GPU:0', '/job:localhost/replica:0/task:0/device:GPU:1', '/job:localhost/replica:0/task:0/device:GPU:2', '/job:localhost/replica:0/task:0/device:GPU:3', '/job:localhost/replica:0/task:0/device:GPU:4', '/job:localhost/replica:0/task:0/device:GPU:5', '/job:localhost/replica:0/task:0/device:GPU:6')\n",
      "시작 전 메모리 사용량: 1273.20703125 MB\n",
      "[3261 / 46858]"
     ]
    }
   ],
   "source": [
    "cnt = 1\n",
    "def show_process(path, filename, data_type=None):\n",
    "    global cnt\n",
    "    if(data_type == \"real\"):\n",
    "        sys.stdout.write(\"\\r\"+\"[\"+str(cnt)+\" / \"+str(len(REAL_DATASET_LIST))+\"]\")\n",
    "        cnt += 1\n",
    "    elif(data_type == \"fake\"):\n",
    "        sys.stdout.write(\"\\r\"+\"[\"+str(self.cnt_fake)+\" / \"+str(self.fake_data_len)+\"]\")\n",
    "        self.cnt_fake += 1\n",
    "    return (img_to_array(load_img(os.path.join(path, filename))) / 255.0).tolist()\n",
    "\n",
    "cnt2 = 1\n",
    "def show_process2(path, filename, data_type=None):\n",
    "    global cnt2\n",
    "    if(data_type == \"real\"):\n",
    "        sys.stdout.write(\"\\r\"+\"[\"+str(cnt2)+\" / \"+str(len(REAL_DATASET_LIST))+\"]\")\n",
    "        cnt2 += 1\n",
    "    elif(data_type == \"fake\"):\n",
    "        sys.stdout.write(\"\\r\"+\"[\"+str(self.cnt_fake)+\" / \"+str(self.fake_data_len)+\"]\")\n",
    "        self.cnt_fake += 1\n",
    "    return (img_to_array(load_img(os.path.join(path, filename))) / 255.0).tolist()\n",
    "\n",
    "# 메모리 사용을 체크해주는 객체 process 생성\n",
    "process = psutil.Process(os.getpid())\n",
    "strategy = tf.distribute.MirroredStrategy()\n",
    "with strategy.scope():\n",
    "    print('시작 전 메모리 사용량: {} MB'.format(process.memory_info().rss / 1024 / 1024))\n",
    "    arrImg = [show_process(REAL_DATA_PATH, REAL_DATASET_LIST[i], data_type=\"real\") for i in range(5000)]\n",
    "    print(\"\")\n",
    "    print(\"완료\")\n",
    "    onlyImg = [show_process2(REAL_DATA_PATH, REAL_DATASET_LIST[i], data_type=\"real\") for i in range(int(len(REAL_DATASET_LIST)/10))]\n",
    "    print('시작 후 메모리 사용량: {} MB'.format(process.memory_info().rss / 1024 / 1024))"
   ]
  },
  {
   "cell_type": "code",
   "execution_count": null,
   "metadata": {},
   "outputs": [],
   "source": [
    "(img_to_array(onlyImg[0]) / 255.0).tolist()"
   ]
  },
  {
   "cell_type": "code",
   "execution_count": null,
   "metadata": {},
   "outputs": [],
   "source": [
    "def real_data_labelling(real_data):\n",
    "    for img_array in real_data:\n",
    "        labeled_real_set = (img_array.tolist(), 1)\n",
    "        yield labeled_real_set\n",
    "\n",
    "aagen = real_data_labelling(aaa)"
   ]
  },
  {
   "cell_type": "code",
   "execution_count": null,
   "metadata": {},
   "outputs": [],
   "source": []
  },
  {
   "cell_type": "code",
   "execution_count": null,
   "metadata": {},
   "outputs": [],
   "source": [
    "tf.keras.preprocessing.image.ImageDataGenerator(\n",
    "    REAL_DATA_PATH,\n",
    "    rescale=1./255\n",
    ")"
   ]
  },
  {
   "cell_type": "code",
   "execution_count": null,
   "metadata": {},
   "outputs": [],
   "source": []
  },
  {
   "cell_type": "code",
   "execution_count": null,
   "metadata": {},
   "outputs": [],
   "source": []
  },
  {
   "cell_type": "code",
   "execution_count": null,
   "metadata": {},
   "outputs": [],
   "source": [
    "mnist = tf.keras.datasets.mnist\n",
    "\n",
    "(x_train, y_train), (x_test, y_test) = mnist.load_data()"
   ]
  },
  {
   "cell_type": "code",
   "execution_count": null,
   "metadata": {},
   "outputs": [],
   "source": []
  },
  {
   "cell_type": "code",
   "execution_count": null,
   "metadata": {},
   "outputs": [],
   "source": []
  },
  {
   "cell_type": "code",
   "execution_count": null,
   "metadata": {},
   "outputs": [],
   "source": []
  },
  {
   "cell_type": "code",
   "execution_count": null,
   "metadata": {},
   "outputs": [],
   "source": []
  },
  {
   "cell_type": "code",
   "execution_count": null,
   "metadata": {},
   "outputs": [],
   "source": []
  },
  {
   "cell_type": "code",
   "execution_count": null,
   "metadata": {},
   "outputs": [],
   "source": []
  },
  {
   "cell_type": "code",
   "execution_count": null,
   "metadata": {},
   "outputs": [],
   "source": []
  },
  {
   "cell_type": "code",
   "execution_count": null,
   "metadata": {},
   "outputs": [],
   "source": []
  },
  {
   "cell_type": "code",
   "execution_count": null,
   "metadata": {},
   "outputs": [],
   "source": []
  },
  {
   "cell_type": "code",
   "execution_count": null,
   "metadata": {},
   "outputs": [],
   "source": []
  },
  {
   "cell_type": "code",
   "execution_count": null,
   "metadata": {},
   "outputs": [],
   "source": []
  },
  {
   "cell_type": "code",
   "execution_count": null,
   "metadata": {},
   "outputs": [],
   "source": []
  },
  {
   "cell_type": "code",
   "execution_count": null,
   "metadata": {},
   "outputs": [],
   "source": []
  },
  {
   "cell_type": "code",
   "execution_count": null,
   "metadata": {},
   "outputs": [],
   "source": [
    "Inception_Resnet_model = keras.models.load_model('Inception_Resnet_Model.h5')"
   ]
  },
  {
   "cell_type": "code",
   "execution_count": null,
   "metadata": {},
   "outputs": [],
   "source": [
    "Inception_Resnet_model.summary()"
   ]
  },
  {
   "cell_type": "code",
   "execution_count": null,
   "metadata": {},
   "outputs": [],
   "source": []
  },
  {
   "cell_type": "code",
   "execution_count": null,
   "metadata": {},
   "outputs": [],
   "source": []
  }
 ],
 "metadata": {
  "kernelspec": {
   "display_name": "Python 3",
   "language": "python",
   "name": "python3"
  },
  "language_info": {
   "codemirror_mode": {
    "name": "ipython",
    "version": 3
   },
   "file_extension": ".py",
   "mimetype": "text/x-python",
   "name": "python",
   "nbconvert_exporter": "python",
   "pygments_lexer": "ipython3",
   "version": "3.6.9"
  }
 },
 "nbformat": 4,
 "nbformat_minor": 4
}
