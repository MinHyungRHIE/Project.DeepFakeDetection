{
 "cells": [
  {
   "cell_type": "markdown",
   "metadata": {},
   "source": [
    "## 하이퍼 파라미터"
   ]
  },
  {
   "cell_type": "code",
   "execution_count": 8,
   "metadata": {},
   "outputs": [],
   "source": [
    "import tensorflow as tf\n",
    "import numpy as np"
   ]
  },
  {
   "cell_type": "code",
   "execution_count": 9,
   "metadata": {},
   "outputs": [],
   "source": [
    "EPOCHS = 10"
   ]
  },
  {
   "cell_type": "markdown",
   "metadata": {},
   "source": [
    "## 모델 정의"
   ]
  },
  {
   "cell_type": "code",
   "execution_count": 2,
   "metadata": {},
   "outputs": [],
   "source": [
    "class ConvNet(tf.keras.Model):\n",
    "    def __init__(self):\n",
    "        super(ConvNet, self).__init__()\n",
    "        conv2d = tf.keras.layers.Conv2D\n",
    "        maxpool = tf.keras.layers.MaxPool2D\n",
    "        self.sequence = list() #\n",
    "        self.sequence.append(conv2d(16, (3, 3), padding='same', activation='relu')) # Padding이 Valid 형태 -> Zero Padding을 해주지 않아 Conv layer를 통과하면서 영상 크기가 줄기 때문에 same으로\n",
    "        self.sequence.append(conv2d(16, (3, 3), padding='same', activation='relu')) # 28x28x16\n",
    "        self.sequence.append(maxpool((2,2))) # 14x14x16\n",
    "        self.sequence.append(conv2d(32, (3, 3), padding='same', activation='relu')) #14x14x32\n",
    "        self.sequence.append(conv2d(32, (3, 3), padding='same', activation='relu')) #14x14x32\n",
    "        self.sequence.append(maxpool((2,2))) # 7x7x16\n",
    "        self.sequence.append(conv2d(64, (3, 3), padding='same', activation='relu')) #7x7x64\n",
    "        self.sequence.append(conv2d(64, (3, 3), padding='same', activation='relu')) #7x7x64\n",
    "        self.sequence.append(tf.keras.layers.Flatten()) # 1568\n",
    "        self.sequence.append(tf.keras.layers.Dense(2048, activation='relu'))\n",
    "        self.sequence.append(tf.keras.layers.Dense(10, activation='softmax'))\n",
    "        \n",
    "        \n",
    "    def call(self, x, training=False, mask=None):\n",
    "        for layer in self.sequence:\n",
    "            x = layer(x)\n",
    "        return x"
   ]
  },
  {
   "cell_type": "markdown",
   "metadata": {},
   "source": [
    "## 학습 테스트 루프 정의"
   ]
  },
  {
   "cell_type": "code",
   "execution_count": 3,
   "metadata": {},
   "outputs": [],
   "source": [
    "# Implement training loop\n",
    "@tf.function\n",
    "def train_step(model, images, labels, loss_object, optimizer, train_loss, train_accuracy):\n",
    "    with tf.GradientTape() as tape:\n",
    "        predictions = model(images)\n",
    "        loss = loss_object(labels, predictions)\n",
    "    gradients = tape.gradient(loss, model.trainable_variables)\n",
    "    \n",
    "    optimizer.apply_gradients(zip(gradients, model.trainable_variables))\n",
    "    train_loss(loss)\n",
    "    train_accuracy(labels, predictions)\n",
    "    \n",
    "# Implement algorithm test\n",
    "def  test_step(model, images, labels, loss_object, test_loss, test_accuracy):\n",
    "    predictions = model(images)\n",
    "    \n",
    "    t_loss = loss_object(labels, predictions)\n",
    "    test_loss(t_loss)\n",
    "    test_accuracy(labels, predictions)"
   ]
  },
  {
   "cell_type": "markdown",
   "metadata": {},
   "source": [
    "## 데이터셋 준비"
   ]
  },
  {
   "cell_type": "code",
   "execution_count": 4,
   "metadata": {},
   "outputs": [
    {
     "name": "stdout",
     "output_type": "stream",
     "text": [
      "Downloading data from https://storage.googleapis.com/tensorflow/tf-keras-datasets/mnist.npz\n",
      "11493376/11490434 [==============================] - 1s 0us/step\n"
     ]
    }
   ],
   "source": [
    "mnist = tf.keras.datasets.mnist\n",
    "\n",
    "(x_train, y_train), (x_test, y_test) = mnist.load_data()\n",
    "x_train, x_test = x_train / 255.0, x_test /255.0\n",
    "\n",
    "x_train = x_train[..., tf.newaxis].astype(np.float32)\n",
    "x_test = x_test[..., tf.newaxis].astype(np.float32)\n",
    "\n",
    "train_ds = tf.data.Dataset.from_tensor_slices((x_train, y_train)).shuffle(10000).batch(32)\n",
    "test_ds = tf.data.Dataset.from_tensor_slices((x_test, y_test)).batch(32)"
   ]
  },
  {
   "cell_type": "markdown",
   "metadata": {},
   "source": [
    "## 학습 환경 정의\n",
    "\n",
    "#### 모델 생성, 손실 함수, 최적화 알고리즘, 평가지표 정의"
   ]
  },
  {
   "cell_type": "code",
   "execution_count": 5,
   "metadata": {},
   "outputs": [],
   "source": [
    "# Create Model\n",
    "model = ConvNet()\n",
    "\n",
    "# Define loss and optimizer\n",
    "loss_object = tf.keras.losses.SparseCategoricalCrossentropy()\n",
    "optimizer = tf.keras.optimizers.Adam()\n",
    "\n",
    "# Define performance metrics\n",
    "train_loss = tf.keras.metrics.Mean(name='train_loss')\n",
    "train_accuracy = tf.keras.metrics.SparseCategoricalAccuracy(name='train_accuracy')\n",
    "\n",
    "test_loss = tf.keras.metrics.Mean(name='test_loss')\n",
    "test_accuracy = tf.keras.metrics.SparseCategoricalAccuracy(name='test_accuracy')"
   ]
  },
  {
   "cell_type": "markdown",
   "metadata": {},
   "source": [
    "## 학습 루프 동작"
   ]
  },
  {
   "cell_type": "code",
   "execution_count": 10,
   "metadata": {},
   "outputs": [
    {
     "name": "stdout",
     "output_type": "stream",
     "text": [
      " Epoch 1, Loss: 0.10762634128332138, Accuracy: 96.65499877929688, Test Loss : 0.05623356252908707, Test Accuracy : 98.44999694824219\n",
      " Epoch 2, Loss: 0.07599354535341263, Accuracy: 97.65916442871094, Test Loss : 0.04702622815966606, Test Accuracy : 98.625\n",
      " Epoch 3, Loss: 0.06212647631764412, Accuracy: 98.086669921875, Test Loss : 0.04527907818555832, Test Accuracy : 98.72333526611328\n",
      " Epoch 4, Loss: 0.05313558503985405, Accuracy: 98.36833190917969, Test Loss : 0.04360963776707649, Test Accuracy : 98.79750061035156\n",
      " Epoch 5, Loss: 0.04734637588262558, Accuracy: 98.55033111572266, Test Loss : 0.042164094746112823, Test Accuracy : 98.83999633789062\n",
      " Epoch 6, Loss: 0.04276557266712189, Accuracy: 98.69249725341797, Test Loss : 0.04163222387433052, Test Accuracy : 98.86000061035156\n",
      " Epoch 7, Loss: 0.039201218634843826, Accuracy: 98.80142974853516, Test Loss : 0.040377579629421234, Test Accuracy : 98.87999725341797\n",
      " Epoch 8, Loss: 0.036459580063819885, Accuracy: 98.88541412353516, Test Loss : 0.03961501643061638, Test Accuracy : 98.91374969482422\n",
      " Epoch 9, Loss: 0.03416179493069649, Accuracy: 98.95536804199219, Test Loss : 0.037733230739831924, Test Accuracy : 98.96222686767578\n",
      " Epoch 10, Loss: 0.032079413533210754, Accuracy: 99.01900482177734, Test Loss : 0.038621935993433, Test Accuracy : 98.96299743652344\n"
     ]
    }
   ],
   "source": [
    "for epoch in range(EPOCHS):\n",
    "    for images, labels in train_ds:\n",
    "        train_step(model, images, labels, loss_object, optimizer, train_loss, train_accuracy)\n",
    "    \n",
    "    for test_images, test_labels in test_ds:\n",
    "        test_step(model, test_images, test_labels, loss_object, test_loss, test_accuracy)\n",
    "    \n",
    "    template = ' Epoch {}, Loss: {}, Accuracy: {}, Test Loss : {}, Test Accuracy : {}'\n",
    "    print(template.format(epoch + 1,\n",
    "                         train_loss.result(),\n",
    "                         train_accuracy.result() * 100,\n",
    "                         test_loss.result(),\n",
    "                         test_accuracy.result() * 100))"
   ]
  },
  {
   "cell_type": "code",
   "execution_count": null,
   "metadata": {},
   "outputs": [],
   "source": []
  }
 ],
 "metadata": {
  "kernelspec": {
   "display_name": "Python 3",
   "language": "python",
   "name": "python3"
  },
  "language_info": {
   "codemirror_mode": {
    "name": "ipython",
    "version": 3
   },
   "file_extension": ".py",
   "mimetype": "text/x-python",
   "name": "python",
   "nbconvert_exporter": "python",
   "pygments_lexer": "ipython3",
   "version": "3.6.9"
  }
 },
 "nbformat": 4,
 "nbformat_minor": 4
}
