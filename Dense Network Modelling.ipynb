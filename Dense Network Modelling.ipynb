{
 "cells": [
  {
   "cell_type": "code",
   "execution_count": 2,
   "metadata": {},
   "outputs": [],
   "source": [
    "import tensorflow as tf\n",
    "import numpy as np"
   ]
  },
  {
   "cell_type": "markdown",
   "metadata": {},
   "source": [
    "## 하이퍼 파라미터"
   ]
  },
  {
   "cell_type": "code",
   "execution_count": 3,
   "metadata": {},
   "outputs": [],
   "source": [
    "EPOCHS = 10"
   ]
  },
  {
   "cell_type": "markdown",
   "metadata": {},
   "source": [
    "## DenseUnit 구현"
   ]
  },
  {
   "cell_type": "code",
   "execution_count": 4,
   "metadata": {},
   "outputs": [],
   "source": [
    "class DenseUnit(tf.keras.Model):\n",
    "    def __init__(self, filter_out, kernel_size):\n",
    "        super(DenseUnit, self).__init__()\n",
    "        self.bn = tf.keras.layers.BatchNormalization()\n",
    "        self.conv = tf.keras.layers.Conv2D(filter_out, kernel_size, padding='same')\n",
    "        self.concat = tf.keras.layers.Concatenate()\n",
    "\n",
    "    def call(self, x, training=False, mask=None): # x: (Batch, H, W, Ch_in)\n",
    "        h = self.bn(x, training=training)\n",
    "        h = tf.nn.relu(h)\n",
    "        h = self.conv(h) # h: (Batch, H, W, filter_output)\n",
    "        return self.concat([x, h]) # (Batch, H, W, (Ch_in + filter_output))"
   ]
  },
  {
   "cell_type": "markdown",
   "metadata": {},
   "source": [
    "## DenseLayer 구현"
   ]
  },
  {
   "cell_type": "code",
   "execution_count": 5,
   "metadata": {},
   "outputs": [],
   "source": [
    "class DenseLayer(tf.keras.Model):\n",
    "    def __init__(self, num_unit, growth_rate, kernel_size):\n",
    "        super(DenseLayer, self).__init__()\n",
    "        self.sequence = list()\n",
    "        for idx in range(num_unit):\n",
    "            self.sequence.append(DenseUnit(growth_rate, kernel_size))\n",
    "\n",
    "    def call(self, x, training=False, mask=None):\n",
    "        for unit in self.sequence:\n",
    "            x = unit(x, training=training)\n",
    "        return x"
   ]
  },
  {
   "cell_type": "markdown",
   "metadata": {},
   "source": [
    "## Trainsition Later 구현"
   ]
  },
  {
   "cell_type": "code",
   "execution_count": 6,
   "metadata": {},
   "outputs": [],
   "source": [
    "class TransitionLayer(tf.keras.Model): # 채널 갯수가 급격히 증가하는 것을 막기 위해서 구현\n",
    "    def __init__(self, filters, kernel_size):\n",
    "        super(TransitionLayer, self).__init__()\n",
    "        self.conv = tf.keras.layers.Conv2D(filters, kernel_size, padding='same')\n",
    "        self.pool = tf.keras.layers.MaxPool2D()\n",
    "        \n",
    "    def call(self, x, training=False, mask=None):\n",
    "        x = self.conv(x)\n",
    "        return self.pool(x)"
   ]
  },
  {
   "cell_type": "markdown",
   "metadata": {},
   "source": [
    "## 모델 정의"
   ]
  },
  {
   "cell_type": "code",
   "execution_count": 7,
   "metadata": {},
   "outputs": [],
   "source": [
    "class DenseNet(tf.keras.Model):\n",
    "    def __init__(self):\n",
    "        super(DenseNet, self).__init__()\n",
    "        self.conv1 = tf.keras.layers.Conv2D(8, (3, 3), padding='same', activation='relu') # 28x28x8\n",
    "        \n",
    "        self.dl1 = DenseLayer(2, 4, (3, 3)) # 28x28x16\n",
    "        self.tr1 = TransitionLayer(16, (3, 3)) # 14x14x16\n",
    "        \n",
    "        self.dl2 = DenseLayer(2, 8, (3, 3)) # 14x14x32\n",
    "        self.tr2 = TransitionLayer(32, (3, 3)) # 7x7x32\n",
    "        \n",
    "        self.dl3 = DenseLayer(2, 16, (3, 3)) # 7x7x64\n",
    "        \n",
    "        self.flatten = tf.keras.layers.Flatten()\n",
    "        self.dense1 = tf.keras.layers.Dense(128, activation='relu')\n",
    "        self.dense2 = tf.keras.layers.Dense(10, activation='softmax')       \n",
    "\n",
    "    def call(self, x, training=False, mask=None):\n",
    "        x = self.conv1(x)\n",
    "        \n",
    "        x = self.dl1(x, training=training)\n",
    "        x = self.tr1(x)\n",
    "        \n",
    "        x = self.dl2(x, training=training)\n",
    "        x = self.tr2(x)\n",
    "        \n",
    "        x = self.dl3(x, training=training)\n",
    "        \n",
    "        x = self.flatten(x)\n",
    "        x = self.dense1(x)\n",
    "        return self.dense2(x)"
   ]
  },
  {
   "cell_type": "markdown",
   "metadata": {},
   "source": [
    "## 학습, 테스트 루프 정의"
   ]
  },
  {
   "cell_type": "code",
   "execution_count": 8,
   "metadata": {},
   "outputs": [],
   "source": [
    "# Implement training loop\n",
    "@tf.function\n",
    "def train_step(model, images, labels, loss_object, optimizer, train_loss, train_accuracy):\n",
    "    with tf.GradientTape() as tape:\n",
    "        predictions = model(images, training=True)\n",
    "        loss = loss_object(labels, predictions)\n",
    "    gradients = tape.gradient(loss, model.trainable_variables)\n",
    "\n",
    "    optimizer.apply_gradients(zip(gradients, model.trainable_variables))\n",
    "    train_loss(loss)\n",
    "    train_accuracy(labels, predictions)\n",
    "\n",
    "# Implement algorithm test\n",
    "@tf.function\n",
    "def test_step(model, images, labels, loss_object, test_loss, test_accuracy):\n",
    "    predictions = model(images, training=False)\n",
    "\n",
    "    t_loss = loss_object(labels, predictions)\n",
    "    test_loss(t_loss)\n",
    "    test_accuracy(labels, predictions)"
   ]
  },
  {
   "cell_type": "markdown",
   "metadata": {},
   "source": [
    "##  데이터셋 준비"
   ]
  },
  {
   "cell_type": "code",
   "execution_count": 9,
   "metadata": {},
   "outputs": [],
   "source": [
    "mnist = tf.keras.datasets.mnist\n",
    "\n",
    "(x_train, y_train), (x_test, y_test) = mnist.load_data()\n",
    "x_train, x_test = x_train / 255.0, x_test / 255.0\n",
    "\n",
    "x_train = x_train[..., tf.newaxis].astype(np.float32)\n",
    "x_test = x_test[..., tf.newaxis].astype(np.float32)\n",
    "\n",
    "train_ds = tf.data.Dataset.from_tensor_slices((x_train, y_train)).shuffle(10000).batch(32)\n",
    "test_ds = tf.data.Dataset.from_tensor_slices((x_test, y_test)).batch(32)"
   ]
  },
  {
   "cell_type": "markdown",
   "metadata": {},
   "source": [
    "## 학습 환경 정의\n",
    "\n",
    "#### 모델 생성, 손실 함수, 최적화 알고리즘, 평가지표 정의"
   ]
  },
  {
   "cell_type": "code",
   "execution_count": 11,
   "metadata": {},
   "outputs": [],
   "source": [
    "# Create model\n",
    "model = DenseNet()\n",
    "\n",
    "# Define loss and optimizer\n",
    "loss_object = tf.keras.losses.SparseCategoricalCrossentropy()\n",
    "optimizer = tf.keras.optimizers.Adam()\n",
    "\n",
    "# Define performance metrics\n",
    "train_loss = tf.keras.metrics.Mean(name='train_loss')\n",
    "train_accuracy = tf.keras.metrics.SparseCategoricalAccuracy(name='train_accuracy')\n",
    "\n",
    "test_loss = tf.keras.metrics.Mean(name='test_loss')\n",
    "test_accuracy = tf.keras.metrics.SparseCategoricalAccuracy(name='test_accuracy')"
   ]
  },
  {
   "cell_type": "markdown",
   "metadata": {},
   "source": [
    "## 학습 루프 동작"
   ]
  },
  {
   "cell_type": "code",
   "execution_count": 12,
   "metadata": {},
   "outputs": [
    {
     "name": "stdout",
     "output_type": "stream",
     "text": [
      "Epoch 1, Loss: 0.11726140975952148, Accuracy: 96.59666442871094, Test Loss: 0.05203641206026077, Test Accuracy: 98.37999725341797\n",
      "Epoch 2, Loss: 0.06088804081082344, Accuracy: 98.32999420166016, Test Loss: 0.056052520871162415, Test Accuracy: 98.47000122070312\n",
      "Epoch 3, Loss: 0.04544755816459656, Accuracy: 98.69999694824219, Test Loss: 0.050236642360687256, Test Accuracy: 98.73999786376953\n",
      "Epoch 4, Loss: 0.04021202400326729, Accuracy: 98.85832977294922, Test Loss: 0.060940537601709366, Test Accuracy: 98.47999572753906\n",
      "Epoch 5, Loss: 0.03425995260477066, Accuracy: 99.07666778564453, Test Loss: 0.05133611336350441, Test Accuracy: 98.97000122070312\n",
      "Epoch 6, Loss: 0.03401998430490494, Accuracy: 99.09832763671875, Test Loss: 0.04948757588863373, Test Accuracy: 98.6199951171875\n",
      "Epoch 7, Loss: 0.02634548395872116, Accuracy: 99.30833435058594, Test Loss: 0.07894741743803024, Test Accuracy: 98.58999633789062\n",
      "Epoch 8, Loss: 0.029894031584262848, Accuracy: 99.211669921875, Test Loss: 0.05810189247131348, Test Accuracy: 98.81999969482422\n",
      "Epoch 9, Loss: 0.02387661300599575, Accuracy: 99.4183349609375, Test Loss: 0.08333505690097809, Test Accuracy: 98.50999450683594\n",
      "Epoch 10, Loss: 0.021624917164444923, Accuracy: 99.43666076660156, Test Loss: 0.06985437124967575, Test Accuracy: 98.77999877929688\n"
     ]
    }
   ],
   "source": [
    "for epoch in range(EPOCHS):\n",
    "    for images, labels in train_ds:\n",
    "        train_step(model, images, labels, loss_object, optimizer, train_loss, train_accuracy)\n",
    "\n",
    "    for test_images, test_labels in test_ds:\n",
    "        test_step(model, test_images, test_labels, loss_object, test_loss, test_accuracy)\n",
    "\n",
    "    template = 'Epoch {}, Loss: {}, Accuracy: {}, Test Loss: {}, Test Accuracy: {}'\n",
    "    print(template.format(epoch + 1,\n",
    "                          train_loss.result(),\n",
    "                          train_accuracy.result() * 100,\n",
    "                          test_loss.result(),\n",
    "                          test_accuracy.result() * 100))\n",
    "    train_loss.reset_states()\n",
    "    train_accuracy.reset_states()\n",
    "    test_loss.reset_states()\n",
    "    test_accuracy.reset_states()"
   ]
  },
  {
   "cell_type": "code",
   "execution_count": null,
   "metadata": {},
   "outputs": [],
   "source": []
  },
  {
   "cell_type": "code",
   "execution_count": null,
   "metadata": {},
   "outputs": [],
   "source": []
  }
 ],
 "metadata": {
  "kernelspec": {
   "display_name": "Python 3",
   "language": "python",
   "name": "python3"
  },
  "language_info": {
   "codemirror_mode": {
    "name": "ipython",
    "version": 3
   },
   "file_extension": ".py",
   "mimetype": "text/x-python",
   "name": "python",
   "nbconvert_exporter": "python",
   "pygments_lexer": "ipython3",
   "version": "3.7.6"
  }
 },
 "nbformat": 4,
 "nbformat_minor": 4
}
